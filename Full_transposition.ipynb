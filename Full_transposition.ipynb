{
 "cells": [
  {
   "cell_type": "code",
   "execution_count": 4,
   "metadata": {},
   "outputs": [],
   "source": [
    "alpa={' ':0,'a':1,'b':2,'c':3,'d':4 ,'e':5,'f':6,'g':7,'h':8,'i':9,'j':10,'k':11,'l':12,'m':13,'n':14,'o':15,'p':16,'q':17,\n",
    "     'r':18,'s':19,'t':20,'u':21,'v':22,'w':23,'x':24,'y':25 ,'z':26 }\n",
    "\n",
    "def ch(l, n):\n",
    "    return [l[i:i+n] for i in range(0, len(l), n)]\n",
    "\n",
    "def encryption(key , plain_text ):\n",
    "    if type(key)==str:\n",
    "        #convert to number\n",
    "        key_num = [alpa[s] for s in key.lower()]\n",
    "        #remove space and add each letter\n",
    "        text_letter = [ i.upper() for i in plain_text if i!=' ']\n",
    "        #convert to D\n",
    "        re = ch(text_letter ,len(key))\n",
    "        # add ABCD....Z\n",
    "        a=len(re[0])-len(re[len(re)-1])\n",
    "        aa='ABCDEFGHIJKLMNOPQRSTUVWXYZ'\n",
    "        for i in range(a):\n",
    "            re[len(re)-1].append(aa[i])\n",
    "        \n",
    "        import numpy as np\n",
    "        import pandas as pd\n",
    "        data_set =pd.DataFrame(re,columns=key_num)\n",
    "        print('the orignal dataset')\n",
    "        print(data_set)\n",
    "        print('###################################')\n",
    "        \n",
    "        zz=data_set.sort_index(axis=1)\n",
    "        print('the sorted dataset' )\n",
    "        print(zz)\n",
    "        print('###################################')\n",
    "        \n",
    "        dd=np.asarray(zz)\n",
    "        encry=[]\n",
    "        #bring\n",
    "        for c in range(len(key)):\n",
    "            for i in range(len(dd)):\n",
    "                encry.append(dd[i][c])\n",
    "        #sw=[]\n",
    "        #s='abcdefghijklmnopqrstuvwxyz'\n",
    "        #index=0\n",
    "        #for vvv in encry:\n",
    "        #    if vvv == None:\n",
    "         #       #sw.append(s[index])\n",
    "          #      #index = index +1\n",
    "           #     sw.append('_')\n",
    "            #else:\n",
    "             #   sw.append(vvv)\n",
    "        #print('the chiper text is:',encry)\n",
    "        #print(''.join(str(y) for y in encry))\n",
    "        re2=''.join(str(y) for y in encry)\n",
    "        return 'the cipher text is  : ' + re2\n",
    "    else:\n",
    "        #remove space and add each letter\n",
    "        text_letter = [ i.upper() for i in plain_text if i!=' ']\n",
    "        #convert to D\n",
    "        re = ch(text_letter ,len(key))\n",
    "        \n",
    "        import numpy as np\n",
    "        import pandas as pd\n",
    "        data_set =pd.DataFrame(re,columns=key)\n",
    "        zz=data_set.sort_index(axis=1)\n",
    "        dd=np.asarray(zz)\n",
    "        encry=[]\n",
    "        #bring\n",
    "        for c in range(len(key)):\n",
    "            for i in range(len(dd)):\n",
    "                encry.append(dd[i][c])\n",
    "        re=''.join(str(y) for y in encry)\n",
    "        return 'the cipher text is  : ' + re\n",
    "        #print('the chiper text is:',join(encry))\n",
    "        "
   ]
  },
  {
   "cell_type": "code",
   "execution_count": 5,
   "metadata": {},
   "outputs": [],
   "source": [
    "def decryption(key ,plaintext):\n",
    "    #convert to number\n",
    "    key_num=[alpa[s] for s in key]\n",
    "    key_sort=sorted(key_num)\n",
    "    #remove space and add each letter\n",
    "    text_letter=[ i.upper() for i in plaintext if i!=' ']\n",
    "    #compute block\n",
    "    import math\n",
    "    y=math.ceil(len(text_letter)/len(key))\n",
    "    #print(y)\n",
    "    mo =len(key)*y\n",
    "    #print(mo , len(text_letter))\n",
    "    add=mo-len(text_letter)\n",
    "    #print(add)\n",
    "    #add in list\n",
    "    s='abcdefghijklmnopqrstuvwxyz'\n",
    "    for i in range(add):\n",
    "        text_letter.append(s[i])\n",
    "    #print(text_letter)\n",
    "    #convert to D\n",
    "    o2=ch(text_letter, y)\n",
    "    print('Taked ',o2)\n",
    "    print('###################################')\n",
    "    \n",
    "    #check for not repate\n",
    "    seen = []\n",
    "    for number in key_sort:\n",
    "        if number in seen:\n",
    "            number = number+1\n",
    "            seen.append(number)\n",
    "        else:\n",
    "            seen.append(number)\n",
    "    #add to dic\n",
    "    dt={}\n",
    "    for i in range(len(key)):\n",
    "        dt[seen[i]]=o2[i]\n",
    "    print('Sorted',dt)\n",
    "    print('###################################')\n",
    "    print('###################################')\n",
    "    #compare and append according to key\n",
    "    c =[]\n",
    "    for i in range(len(key)):\n",
    "        for k, v in dt.items():\n",
    "            if k == key_num[i]:\n",
    "                c.append(v)\n",
    "    print('With its index',c)\n",
    "    #transposition\n",
    "    import numpy as np\n",
    "    zz=np.array(c).T.tolist()\n",
    "    print('###################################')\n",
    "    print('###################################')\n",
    "    print(zz)\n",
    "    #bring\n",
    "    vv=[]\n",
    "    for i in range(y):\n",
    "        for c in range(len(key)):\n",
    "            vv.append(zz[i][c])\n",
    "    #print('the plain text is : \\n',vv)\n",
    "    w=''.join(str(y) for y in vv)\n",
    "    return 'the plain text is : '+ w\n",
    "#decryption('makeyou','attack postponed untill woam')"
   ]
  },
  {
   "cell_type": "code",
   "execution_count": 6,
   "metadata": {},
   "outputs": [
    {
     "data": {
      "application/vnd.jupyter.widget-view+json": {
       "model_id": "db9f6ffb17ad455eb2a0a541587bc527",
       "version_major": 2,
       "version_minor": 0
      },
      "text/html": [
       "<p>Failed to display Jupyter Widget of type <code>Label</code>.</p>\n",
       "<p>\n",
       "  If you're reading this message in the Jupyter Notebook or JupyterLab Notebook, it may mean\n",
       "  that the widgets JavaScript is still loading. If this message persists, it\n",
       "  likely means that the widgets JavaScript library is either not installed or\n",
       "  not enabled. See the <a href=\"https://ipywidgets.readthedocs.io/en/stable/user_install.html\">Jupyter\n",
       "  Widgets Documentation</a> for setup instructions.\n",
       "</p>\n",
       "<p>\n",
       "  If you're reading this message in another frontend (for example, a static\n",
       "  rendering on GitHub or <a href=\"https://nbviewer.jupyter.org/\">NBViewer</a>),\n",
       "  it may mean that your frontend doesn't currently support widgets.\n",
       "</p>\n"
      ],
      "text/plain": [
       "Label(value='Transposition')"
      ]
     },
     "metadata": {},
     "output_type": "display_data"
    },
    {
     "data": {
      "application/vnd.jupyter.widget-view+json": {
       "model_id": "8c7a51271dff44d098b30c2709283985",
       "version_major": 2,
       "version_minor": 0
      },
      "text/html": [
       "<p>Failed to display Jupyter Widget of type <code>Text</code>.</p>\n",
       "<p>\n",
       "  If you're reading this message in the Jupyter Notebook or JupyterLab Notebook, it may mean\n",
       "  that the widgets JavaScript is still loading. If this message persists, it\n",
       "  likely means that the widgets JavaScript library is either not installed or\n",
       "  not enabled. See the <a href=\"https://ipywidgets.readthedocs.io/en/stable/user_install.html\">Jupyter\n",
       "  Widgets Documentation</a> for setup instructions.\n",
       "</p>\n",
       "<p>\n",
       "  If you're reading this message in another frontend (for example, a static\n",
       "  rendering on GitHub or <a href=\"https://nbviewer.jupyter.org/\">NBViewer</a>),\n",
       "  it may mean that your frontend doesn't currently support widgets.\n",
       "</p>\n"
      ],
      "text/plain": [
       "Text(value='', placeholder='enter the plain text')"
      ]
     },
     "metadata": {},
     "output_type": "display_data"
    },
    {
     "data": {
      "application/vnd.jupyter.widget-view+json": {
       "model_id": "f457bc3871c143e9948ccac233b0fe16",
       "version_major": 2,
       "version_minor": 0
      },
      "text/html": [
       "<p>Failed to display Jupyter Widget of type <code>Text</code>.</p>\n",
       "<p>\n",
       "  If you're reading this message in the Jupyter Notebook or JupyterLab Notebook, it may mean\n",
       "  that the widgets JavaScript is still loading. If this message persists, it\n",
       "  likely means that the widgets JavaScript library is either not installed or\n",
       "  not enabled. See the <a href=\"https://ipywidgets.readthedocs.io/en/stable/user_install.html\">Jupyter\n",
       "  Widgets Documentation</a> for setup instructions.\n",
       "</p>\n",
       "<p>\n",
       "  If you're reading this message in another frontend (for example, a static\n",
       "  rendering on GitHub or <a href=\"https://nbviewer.jupyter.org/\">NBViewer</a>),\n",
       "  it may mean that your frontend doesn't currently support widgets.\n",
       "</p>\n"
      ],
      "text/plain": [
       "Text(value='', placeholder='enter the key ')"
      ]
     },
     "metadata": {},
     "output_type": "display_data"
    },
    {
     "data": {
      "application/vnd.jupyter.widget-view+json": {
       "model_id": "cb2fa8b9b0ff478bad1c77781438de85",
       "version_major": 2,
       "version_minor": 0
      },
      "text/html": [
       "<p>Failed to display Jupyter Widget of type <code>HBox</code>.</p>\n",
       "<p>\n",
       "  If you're reading this message in the Jupyter Notebook or JupyterLab Notebook, it may mean\n",
       "  that the widgets JavaScript is still loading. If this message persists, it\n",
       "  likely means that the widgets JavaScript library is either not installed or\n",
       "  not enabled. See the <a href=\"https://ipywidgets.readthedocs.io/en/stable/user_install.html\">Jupyter\n",
       "  Widgets Documentation</a> for setup instructions.\n",
       "</p>\n",
       "<p>\n",
       "  If you're reading this message in another frontend (for example, a static\n",
       "  rendering on GitHub or <a href=\"https://nbviewer.jupyter.org/\">NBViewer</a>),\n",
       "  it may mean that your frontend doesn't currently support widgets.\n",
       "</p>\n"
      ],
      "text/plain": [
       "HBox(children=(Button(description='encryption', style=ButtonStyle()), Button(description='decryption', style=ButtonStyle())))"
      ]
     },
     "metadata": {},
     "output_type": "display_data"
    },
    {
     "data": {
      "application/vnd.jupyter.widget-view+json": {
       "model_id": "d5aecfad15c94ef780352610c1adf087",
       "version_major": 2,
       "version_minor": 0
      },
      "text/html": [
       "<p>Failed to display Jupyter Widget of type <code>Label</code>.</p>\n",
       "<p>\n",
       "  If you're reading this message in the Jupyter Notebook or JupyterLab Notebook, it may mean\n",
       "  that the widgets JavaScript is still loading. If this message persists, it\n",
       "  likely means that the widgets JavaScript library is either not installed or\n",
       "  not enabled. See the <a href=\"https://ipywidgets.readthedocs.io/en/stable/user_install.html\">Jupyter\n",
       "  Widgets Documentation</a> for setup instructions.\n",
       "</p>\n",
       "<p>\n",
       "  If you're reading this message in another frontend (for example, a static\n",
       "  rendering on GitHub or <a href=\"https://nbviewer.jupyter.org/\">NBViewer</a>),\n",
       "  it may mean that your frontend doesn't currently support widgets.\n",
       "</p>\n"
      ],
      "text/plain": [
       "Label(value='__________________________________________', placeholder='the output')"
      ]
     },
     "metadata": {},
     "output_type": "display_data"
    },
    {
     "name": "stdout",
     "output_type": "stream",
     "text": [
      "the orignal dataset\n",
      "  19 5  3  21 18 9  20\n",
      "0  W  E  N  E  E  D  M\n",
      "1  O  R  E  S  N  O  W\n",
      "2  N  O  W  A  B  C  D\n",
      "###################################\n",
      "the sorted dataset\n",
      "  3  5  9  18 19 20 21\n",
      "0  N  E  D  E  W  M  E\n",
      "1  E  R  O  N  O  W  S\n",
      "2  W  O  C  B  N  D  A\n",
      "###################################\n"
     ]
    }
   ],
   "source": [
    "import ipywidgets \n",
    "from IPython.display import display\n",
    "\n",
    "x=ipywidgets.Text(placeholder='enter the plain text')\n",
    "y=ipywidgets.Text(placeholder='enter the key ')\n",
    "z=ipywidgets.Button(description='encryption')\n",
    "w=ipywidgets.Button(description='decryption')\n",
    "f=ipywidgets.HBox((z,w))\n",
    "lab = ipywidgets.Label(value=\"Transposition\", disabled=False )\n",
    "lab2 = ipywidgets.Label(value=\"__________________________________________\",placeholder='the output', disabled=False )\n",
    "\n",
    "def encbt(z):\n",
    "    data=x.get_interact_value()\n",
    "    k=y.get_interact_value()\n",
    "    d=encryption(k ,data)\n",
    "    lab2.value=d\n",
    "    #print(str(d))\n",
    "    \n",
    "z.on_click(encbt)\n",
    "\n",
    "def debt(w):\n",
    "    data=x.get_interact_value()\n",
    "    k=y.get_interact_value()\n",
    "    d=decryption(k,data)\n",
    "    lab2.value=d\n",
    "    \n",
    "w.on_click(debt)\n",
    "\n",
    "######################\n",
    "\n",
    "\n",
    "display(lab,x,y ,f ,lab2)"
   ]
  },
  {
   "cell_type": "code",
   "execution_count": null,
   "metadata": {},
   "outputs": [],
   "source": []
  }
 ],
 "metadata": {
  "kernelspec": {
   "display_name": "Python 3",
   "language": "python",
   "name": "python3"
  },
  "language_info": {
   "codemirror_mode": {
    "name": "ipython",
    "version": 3
   },
   "file_extension": ".py",
   "mimetype": "text/x-python",
   "name": "python",
   "nbconvert_exporter": "python",
   "pygments_lexer": "ipython3",
   "version": "3.6.3"
  }
 },
 "nbformat": 4,
 "nbformat_minor": 2
}
